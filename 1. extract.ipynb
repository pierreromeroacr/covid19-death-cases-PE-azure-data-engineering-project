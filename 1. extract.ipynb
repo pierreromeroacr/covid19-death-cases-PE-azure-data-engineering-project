{
 "cells": [
  {
   "cell_type": "markdown",
   "metadata": {
    "application/vnd.databricks.v1+cell": {
     "cellMetadata": {},
     "inputWidgets": {},
     "nuid": "15ce2dac-7b69-4298-bf45-76bebc4d9b45",
     "showTitle": false,
     "title": ""
    }
   },
   "source": [
    "##### Extract data from the landing layer to the bronze layer"
   ]
  },
  {
   "cell_type": "code",
   "execution_count": 0,
   "metadata": {
    "application/vnd.databricks.v1+cell": {
     "cellMetadata": {
      "byteLimit": 2048000,
      "rowLimit": 10000
     },
     "inputWidgets": {},
     "nuid": "28736c19-f420-49b4-8e04-011be3a3a0e6",
     "showTitle": false,
     "title": ""
    }
   },
   "outputs": [],
   "source": [
    "# Import libraries\n",
    "from pyspark.sql.functions import *\n",
    "from pyspark.sql.types import StructType, StructField, StringType, IntegerType"
   ]
  },
  {
   "cell_type": "code",
   "execution_count": 0,
   "metadata": {
    "application/vnd.databricks.v1+cell": {
     "cellMetadata": {
      "byteLimit": 2048000,
      "rowLimit": 10000
     },
     "inputWidgets": {},
     "nuid": "ee7545e9-66e1-424e-a263-03bc1684688e",
     "showTitle": false,
     "title": ""
    }
   },
   "outputs": [],
   "source": [
    "# Mapping the path of the directories\n",
    "landing_path = '/mnt/death-cases-covid19/Landing'\n",
    "bronze_path = '/mnt/death-cases-covid19/Bronze'"
   ]
  },
  {
   "cell_type": "code",
   "execution_count": 0,
   "metadata": {
    "application/vnd.databricks.v1+cell": {
     "cellMetadata": {
      "byteLimit": 2048000,
      "rowLimit": 10000
     },
     "inputWidgets": {},
     "nuid": "0814756d-9064-4509-a341-2ef7e23347f3",
     "showTitle": false,
     "title": ""
    }
   },
   "outputs": [],
   "source": [
    "# Mapping file path\n",
    "file_path = '/mnt/death-cases-covid19/Landing/covid-death-cases-PE.csv'"
   ]
  },
  {
   "cell_type": "code",
   "execution_count": 0,
   "metadata": {
    "application/vnd.databricks.v1+cell": {
     "cellMetadata": {
      "byteLimit": 2048000,
      "rowLimit": 10000
     },
     "inputWidgets": {},
     "nuid": "ffbc564b-5361-408e-b9f7-eab15dd33115",
     "showTitle": false,
     "title": ""
    }
   },
   "outputs": [],
   "source": [
    "# Define the schema\n",
    "schema = StructType([\n",
    "    StructField('FECHA_CORTE', IntegerType(), True),\n",
    "    StructField('FECHA_FALLECIMIENTO', IntegerType(), True),\n",
    "    StructField('EDAD_DECLARADA', IntegerType(), True),\n",
    "    StructField('SEXO', StringType(), True),\n",
    "    StructField('CLASIFICACION_DEF', StringType(), True),\n",
    "    StructField('DEPARTAMENTO', StringType(), True),\n",
    "    StructField('PROVINCIA', StringType(), True),\n",
    "    StructField('DISTRITO', StringType(), True),\n",
    "    StructField('UBIGEO', StringType(), True),\n",
    "    StructField('id_persona', IntegerType(), True),\n",
    "])"
   ]
  },
  {
   "cell_type": "code",
   "execution_count": 0,
   "metadata": {
    "application/vnd.databricks.v1+cell": {
     "cellMetadata": {
      "byteLimit": 2048000,
      "rowLimit": 10000
     },
     "inputWidgets": {},
     "nuid": "eb424ba8-b06f-43a9-b23c-20269cb02a68",
     "showTitle": false,
     "title": ""
    }
   },
   "outputs": [
    {
     "output_type": "stream",
     "name": "stdout",
     "output_type": "stream",
     "text": [
      "+-----------+-------------------+--------------+---------+--------------------+------------+----------+--------------------+------+----------+\n|FECHA_CORTE|FECHA_FALLECIMIENTO|EDAD_DECLARADA|     SEXO|   CLASIFICACION_DEF|DEPARTAMENTO| PROVINCIA|            DISTRITO|UBIGEO|id_persona|\n+-----------+-------------------+--------------+---------+--------------------+------------+----------+--------------------+------+----------+\n|   20240102|           20210611|            21|MASCULINO|    Criterio SINADEF|  LAMBAYEQUE|  CHICLAYO|            CHICLAYO|140101|  24833991|\n|   20240102|           20210317|            45|MASCULINO|Criterio serolÃ³gico|       PIURA|   SULLANA|             SULLANA|200601|  24761117|\n|   20240102|           20210602|            62| FEMENINO|Criterio virolÃ³gico|         ICA|     PISCO|        SAN CLEMENTE|110507|  24767070|\n|   20240102|           20210703|            75|MASCULINO|Criterio virolÃ³gico|    AREQUIPA|  AREQUIPA|          MIRAFLORES|040110|  24751741|\n|   20240102|           20210506|            66| FEMENINO|Criterio virolÃ³gico|        LIMA|      LIMA|SAN JUAN DE LURIG...|150132|  24671820|\n|   20240102|           20210321|            39|MASCULINO|Criterio virolÃ³gico|        LIMA|      LIMA|SAN JUAN DE LURIG...|150132|  24709216|\n|   20240102|           20210325|            39|MASCULINO|Criterio virolÃ³gico|      ANCASH|   HUARMEY|             HUARMEY|021101|  24709228|\n|   20240102|           20210706|            31| FEMENINO|Criterio virolÃ³gico|        LIMA|      LIMA|                LIMA|150101|  25670721|\n|   20240102|           20210530|            75| FEMENINO|    Criterio SINADEF|    APURIMAC|CHINCHEROS|           COCHARCAS|030603|  25670904|\n|   20240102|           20210320|            57|MASCULINO|Criterio virolÃ³gico|        LIMA|      LIMA|               RIMAC|150128|  25671021|\n+-----------+-------------------+--------------+---------+--------------------+------------+----------+--------------------+------+----------+\nonly showing top 10 rows\n\n"
     ]
    }
   ],
   "source": [
    "# Load data\n",
    "raw_df = spark.read.csv(path=file_path, header=True, schema=schema, sep=';')\n",
    "raw_df.show(10)"
   ]
  },
  {
   "cell_type": "code",
   "execution_count": 0,
   "metadata": {
    "application/vnd.databricks.v1+cell": {
     "cellMetadata": {
      "byteLimit": 2048000,
      "rowLimit": 10000
     },
     "inputWidgets": {},
     "nuid": "491430aa-afc5-41e8-8cfe-b8f10dcee27d",
     "showTitle": false,
     "title": ""
    }
   },
   "outputs": [],
   "source": [
    "# Writing the data to the bronze layer in delta format\n",
    "raw_df.write.mode(\"overwrite\").format(\"delta\").save(f\"{bronze_path}/death_cases_covid19\")"
   ]
  },
  {
   "cell_type": "code",
   "execution_count": 0,
   "metadata": {
    "application/vnd.databricks.v1+cell": {
     "cellMetadata": {
      "byteLimit": 2048000,
      "rowLimit": 10000
     },
     "inputWidgets": {},
     "nuid": "b73a8e6f-7237-46e5-b283-22bcc0317c8c",
     "showTitle": false,
     "title": ""
    }
   },
   "outputs": [
    {
     "output_type": "stream",
     "name": "stdout",
     "output_type": "stream",
     "text": [
      "+-----------+-------------------+--------------+---------+--------------------+------------+----------+--------------------+------+----------+\n|FECHA_CORTE|FECHA_FALLECIMIENTO|EDAD_DECLARADA|     SEXO|   CLASIFICACION_DEF|DEPARTAMENTO| PROVINCIA|            DISTRITO|UBIGEO|id_persona|\n+-----------+-------------------+--------------+---------+--------------------+------------+----------+--------------------+------+----------+\n|   20240102|           20210611|            21|MASCULINO|    Criterio SINADEF|  LAMBAYEQUE|  CHICLAYO|            CHICLAYO|140101|  24833991|\n|   20240102|           20210317|            45|MASCULINO|Criterio serolÃ³gico|       PIURA|   SULLANA|             SULLANA|200601|  24761117|\n|   20240102|           20210602|            62| FEMENINO|Criterio virolÃ³gico|         ICA|     PISCO|        SAN CLEMENTE|110507|  24767070|\n|   20240102|           20210703|            75|MASCULINO|Criterio virolÃ³gico|    AREQUIPA|  AREQUIPA|          MIRAFLORES|040110|  24751741|\n|   20240102|           20210506|            66| FEMENINO|Criterio virolÃ³gico|        LIMA|      LIMA|SAN JUAN DE LURIG...|150132|  24671820|\n|   20240102|           20210321|            39|MASCULINO|Criterio virolÃ³gico|        LIMA|      LIMA|SAN JUAN DE LURIG...|150132|  24709216|\n|   20240102|           20210325|            39|MASCULINO|Criterio virolÃ³gico|      ANCASH|   HUARMEY|             HUARMEY|021101|  24709228|\n|   20240102|           20210706|            31| FEMENINO|Criterio virolÃ³gico|        LIMA|      LIMA|                LIMA|150101|  25670721|\n|   20240102|           20210530|            75| FEMENINO|    Criterio SINADEF|    APURIMAC|CHINCHEROS|           COCHARCAS|030603|  25670904|\n|   20240102|           20210320|            57|MASCULINO|Criterio virolÃ³gico|        LIMA|      LIMA|               RIMAC|150128|  25671021|\n+-----------+-------------------+--------------+---------+--------------------+------------+----------+--------------------+------+----------+\nonly showing top 10 rows\n\n"
     ]
    }
   ],
   "source": [
    "# Checking data of the bronze layer\n",
    "path = '/mnt/death-cases-covid19/Bronze/death_cases_covid19'\n",
    "bronze_df = spark.read.format('delta').load(path)\n",
    "\n",
    "bronze_df.show(10)"
   ]
  }
 ],
 "metadata": {
  "application/vnd.databricks.v1+notebook": {
   "dashboards": [],
   "language": "python",
   "notebookMetadata": {
    "mostRecentlyExecutedCommandWithImplicitDF": {
     "commandId": 2597629550753223,
     "dataframes": [
      "_sqldf"
     ]
    },
    "pythonIndentUnit": 4
   },
   "notebookName": "extract",
   "widgets": {}
  }
 },
 "nbformat": 4,
 "nbformat_minor": 0
}
