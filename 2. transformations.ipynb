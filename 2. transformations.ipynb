{
 "cells": [
  {
   "cell_type": "code",
   "execution_count": 0,
   "metadata": {
    "application/vnd.databricks.v1+cell": {
     "cellMetadata": {
      "byteLimit": 2048000,
      "rowLimit": 10000
     },
     "inputWidgets": {},
     "nuid": "4490d5c6-c6de-4e31-8178-1a30aa6c7bec",
     "showTitle": false,
     "title": ""
    }
   },
   "outputs": [],
   "source": [
    "# Import libraries\n",
    "from pyspark.sql.functions import *\n",
    "from pyspark.sql.types import *"
   ]
  },
  {
   "cell_type": "code",
   "execution_count": 0,
   "metadata": {
    "application/vnd.databricks.v1+cell": {
     "cellMetadata": {
      "byteLimit": 2048000,
      "rowLimit": 10000
     },
     "inputWidgets": {},
     "nuid": "3fa19234-4440-4ed7-8ab3-a135794af559",
     "showTitle": false,
     "title": ""
    }
   },
   "outputs": [],
   "source": [
    "# Mapping the path of the directories\n",
    "bronze_path = '/mnt/death-cases-covid19/Bronze'\n",
    "silver_path = '/mnt/death-cases-covid19/Silver'\n",
    "gold_path = '/mnt/death-cases-covid19/Gold'"
   ]
  },
  {
   "cell_type": "code",
   "execution_count": 0,
   "metadata": {
    "application/vnd.databricks.v1+cell": {
     "cellMetadata": {
      "byteLimit": 2048000,
      "rowLimit": 10000
     },
     "inputWidgets": {},
     "nuid": "3430b6b1-dc77-45c6-a8f8-98980761f781",
     "showTitle": false,
     "title": ""
    }
   },
   "outputs": [],
   "source": [
    "# Mapping file path\n",
    "file_path = '/mnt/death-cases-covid19/Bronze/death_cases_covid19'"
   ]
  },
  {
   "cell_type": "code",
   "execution_count": 0,
   "metadata": {
    "application/vnd.databricks.v1+cell": {
     "cellMetadata": {
      "byteLimit": 2048000,
      "rowLimit": 10000
     },
     "inputWidgets": {},
     "nuid": "a83f1e62-18ff-4088-96a2-a8b915da4d7e",
     "showTitle": false,
     "title": ""
    }
   },
   "outputs": [
    {
     "output_type": "stream",
     "name": "stdout",
     "output_type": "stream",
     "text": [
      "+-----------+-------------------+--------------+---------+--------------------+------------+----------+--------------------+------+----------+\n|FECHA_CORTE|FECHA_FALLECIMIENTO|EDAD_DECLARADA|     SEXO|   CLASIFICACION_DEF|DEPARTAMENTO| PROVINCIA|            DISTRITO|UBIGEO|id_persona|\n+-----------+-------------------+--------------+---------+--------------------+------------+----------+--------------------+------+----------+\n|   20240102|           20210611|            21|MASCULINO|    Criterio SINADEF|  LAMBAYEQUE|  CHICLAYO|            CHICLAYO|140101|  24833991|\n|   20240102|           20210317|            45|MASCULINO|Criterio serolÃ³gico|       PIURA|   SULLANA|             SULLANA|200601|  24761117|\n|   20240102|           20210602|            62| FEMENINO|Criterio virolÃ³gico|         ICA|     PISCO|        SAN CLEMENTE|110507|  24767070|\n|   20240102|           20210703|            75|MASCULINO|Criterio virolÃ³gico|    AREQUIPA|  AREQUIPA|          MIRAFLORES|040110|  24751741|\n|   20240102|           20210506|            66| FEMENINO|Criterio virolÃ³gico|        LIMA|      LIMA|SAN JUAN DE LURIG...|150132|  24671820|\n|   20240102|           20210321|            39|MASCULINO|Criterio virolÃ³gico|        LIMA|      LIMA|SAN JUAN DE LURIG...|150132|  24709216|\n|   20240102|           20210325|            39|MASCULINO|Criterio virolÃ³gico|      ANCASH|   HUARMEY|             HUARMEY|021101|  24709228|\n|   20240102|           20210706|            31| FEMENINO|Criterio virolÃ³gico|        LIMA|      LIMA|                LIMA|150101|  25670721|\n|   20240102|           20210530|            75| FEMENINO|    Criterio SINADEF|    APURIMAC|CHINCHEROS|           COCHARCAS|030603|  25670904|\n|   20240102|           20210320|            57|MASCULINO|Criterio virolÃ³gico|        LIMA|      LIMA|               RIMAC|150128|  25671021|\n+-----------+-------------------+--------------+---------+--------------------+------------+----------+--------------------+------+----------+\nonly showing top 10 rows\n\n"
     ]
    }
   ],
   "source": [
    "# Load data\n",
    "raw_df = spark.read.format(\"delta\").load(file_path)\n",
    "raw_df.show(10)"
   ]
  },
  {
   "cell_type": "code",
   "execution_count": 0,
   "metadata": {
    "application/vnd.databricks.v1+cell": {
     "cellMetadata": {
      "byteLimit": 2048000,
      "rowLimit": 10000
     },
     "inputWidgets": {},
     "nuid": "1b555b31-68c1-476f-94fc-4f0d847ff0b7",
     "showTitle": false,
     "title": ""
    }
   },
   "outputs": [
    {
     "output_type": "stream",
     "name": "stdout",
     "output_type": "stream",
     "text": [
      "root\n |-- FECHA_CORTE: integer (nullable = true)\n |-- FECHA_FALLECIMIENTO: integer (nullable = true)\n |-- EDAD_DECLARADA: integer (nullable = true)\n |-- SEXO: string (nullable = true)\n |-- CLASIFICACION_DEF: string (nullable = true)\n |-- DEPARTAMENTO: string (nullable = true)\n |-- PROVINCIA: string (nullable = true)\n |-- DISTRITO: string (nullable = true)\n |-- UBIGEO: string (nullable = true)\n |-- id_persona: integer (nullable = true)\n\n"
     ]
    }
   ],
   "source": [
    "# Details fields\n",
    "raw_df.printSchema()"
   ]
  },
  {
   "cell_type": "code",
   "execution_count": 0,
   "metadata": {
    "application/vnd.databricks.v1+cell": {
     "cellMetadata": {
      "byteLimit": 2048000,
      "rowLimit": 10000
     },
     "inputWidgets": {},
     "nuid": "99f6c828-5a7b-4e46-96dd-3203eb9da61e",
     "showTitle": false,
     "title": ""
    }
   },
   "outputs": [
    {
     "output_type": "stream",
     "name": "stdout",
     "output_type": "stream",
     "text": [
      "+-------------------+--------------+---------+------------+----------+--------------------+------+\n|FECHA_FALLECIMIENTO|EDAD_DECLARADA|     SEXO|DEPARTAMENTO| PROVINCIA|            DISTRITO|UBIGEO|\n+-------------------+--------------+---------+------------+----------+--------------------+------+\n|           20210611|            21|MASCULINO|  LAMBAYEQUE|  CHICLAYO|            CHICLAYO|140101|\n|           20210317|            45|MASCULINO|       PIURA|   SULLANA|             SULLANA|200601|\n|           20210602|            62| FEMENINO|         ICA|     PISCO|        SAN CLEMENTE|110507|\n|           20210703|            75|MASCULINO|    AREQUIPA|  AREQUIPA|          MIRAFLORES|040110|\n|           20210506|            66| FEMENINO|        LIMA|      LIMA|SAN JUAN DE LURIG...|150132|\n|           20210321|            39|MASCULINO|        LIMA|      LIMA|SAN JUAN DE LURIG...|150132|\n|           20210325|            39|MASCULINO|      ANCASH|   HUARMEY|             HUARMEY|021101|\n|           20210706|            31| FEMENINO|        LIMA|      LIMA|                LIMA|150101|\n|           20210530|            75| FEMENINO|    APURIMAC|CHINCHEROS|           COCHARCAS|030603|\n|           20210320|            57|MASCULINO|        LIMA|      LIMA|               RIMAC|150128|\n+-------------------+--------------+---------+------------+----------+--------------------+------+\nonly showing top 10 rows\n\n"
     ]
    }
   ],
   "source": [
    "# Remove unnecessary columns\n",
    "filter_columns_df = raw_df.drop(col('FECHA_CORTE'), col('CLASIFICACION_DEF'), col('id_persona'))\n",
    "filter_columns_df.show(10)"
   ]
  },
  {
   "cell_type": "code",
   "execution_count": 0,
   "metadata": {
    "application/vnd.databricks.v1+cell": {
     "cellMetadata": {
      "byteLimit": 2048000,
      "rowLimit": 10000
     },
     "inputWidgets": {},
     "nuid": "d88a9b4d-5e94-4b8a-82b0-0ec9b2b3fa3c",
     "showTitle": false,
     "title": ""
    }
   },
   "outputs": [
    {
     "output_type": "stream",
     "name": "stdout",
     "output_type": "stream",
     "text": [
      "+----------+---+---------+----------+----------+--------------------+------+\n|death_date|age|      sex|department|  province|            district|ubigeo|\n+----------+---+---------+----------+----------+--------------------+------+\n|  20210611| 21|MASCULINO|LAMBAYEQUE|  CHICLAYO|            CHICLAYO|140101|\n|  20210317| 45|MASCULINO|     PIURA|   SULLANA|             SULLANA|200601|\n|  20210602| 62| FEMENINO|       ICA|     PISCO|        SAN CLEMENTE|110507|\n|  20210703| 75|MASCULINO|  AREQUIPA|  AREQUIPA|          MIRAFLORES|040110|\n|  20210506| 66| FEMENINO|      LIMA|      LIMA|SAN JUAN DE LURIG...|150132|\n|  20210321| 39|MASCULINO|      LIMA|      LIMA|SAN JUAN DE LURIG...|150132|\n|  20210325| 39|MASCULINO|    ANCASH|   HUARMEY|             HUARMEY|021101|\n|  20210706| 31| FEMENINO|      LIMA|      LIMA|                LIMA|150101|\n|  20210530| 75| FEMENINO|  APURIMAC|CHINCHEROS|           COCHARCAS|030603|\n|  20210320| 57|MASCULINO|      LIMA|      LIMA|               RIMAC|150128|\n+----------+---+---------+----------+----------+--------------------+------+\nonly showing top 10 rows\n\n"
     ]
    }
   ],
   "source": [
    "# Rename columns\n",
    "name_columns = ['death_date', 'age', 'sex', 'department', 'province', 'district', 'ubigeo']\n",
    "rename_columns_df = filter_columns_df.toDF(*name_columns)\n",
    "\n",
    "rename_columns_df.show(10)"
   ]
  },
  {
   "cell_type": "code",
   "execution_count": 0,
   "metadata": {
    "application/vnd.databricks.v1+cell": {
     "cellMetadata": {
      "byteLimit": 2048000,
      "rowLimit": 10000
     },
     "inputWidgets": {},
     "nuid": "a0177b92-da4a-46c0-8728-ffb9cee6cf05",
     "showTitle": false,
     "title": ""
    }
   },
   "outputs": [
    {
     "output_type": "stream",
     "name": "stdout",
     "output_type": "stream",
     "text": [
      "death_date:  0\nage:  0\nsex:  0\ndepartment:  0\nprovince:  5\ndistrict:  5\nubigeo:  0\n"
     ]
    }
   ],
   "source": [
    "#Checking for null columns\n",
    "death_date_nulls = rename_columns_df.filter(col('death_date').isNull()).count()\n",
    "age_nulls = rename_columns_df.filter(col('age').isNull()).count()\n",
    "sex_nulls = rename_columns_df.filter(col('sex').isNull()).count()\n",
    "department_nulls = rename_columns_df.filter(col('department').isNull()).count()\n",
    "province_nulls = rename_columns_df.filter(col('province').isNull()).count()\n",
    "district_nulls = rename_columns_df.filter(col('district').isNull()).count()\n",
    "ubigeo_nulls = rename_columns_df.filter(col('ubigeo').isNull()).count()\n",
    "\n",
    "print('death_date: ', death_date_nulls)\n",
    "print('age: ', age_nulls)\n",
    "print('sex: ', sex_nulls)\n",
    "print('department: ', department_nulls)\n",
    "print('province: ', province_nulls)\n",
    "print('district: ', district_nulls)\n",
    "print('ubigeo: ', ubigeo_nulls)"
   ]
  },
  {
   "cell_type": "code",
   "execution_count": 0,
   "metadata": {
    "application/vnd.databricks.v1+cell": {
     "cellMetadata": {
      "byteLimit": 2048000,
      "rowLimit": 10000
     },
     "inputWidgets": {},
     "nuid": "def39c09-0dfd-4419-a01e-5d8352f33ee1",
     "showTitle": false,
     "title": ""
    }
   },
   "outputs": [
    {
     "output_type": "stream",
     "name": "stdout",
     "output_type": "stream",
     "text": [
      "mode:  LIMA\ncount null:  0\n"
     ]
    }
   ],
   "source": [
    "# Replace nulls - column province\n",
    "# -- calculta mode\n",
    "province_mode = rename_columns_df.groupBy('province').count().orderBy('count', ascending=False).first()['province']\n",
    "print('mode: ', province_mode)\n",
    "\n",
    "# --replace\n",
    "replace_null_province_df = rename_columns_df.fillna(province_mode, subset=['province'])\n",
    "\n",
    "# --checkinig\n",
    "checkin_null = replace_null_province_df.filter(col('province').isNull()).count()\n",
    "print('count null: ', checkin_null)"
   ]
  },
  {
   "cell_type": "code",
   "execution_count": 0,
   "metadata": {
    "application/vnd.databricks.v1+cell": {
     "cellMetadata": {
      "byteLimit": 2048000,
      "rowLimit": 10000
     },
     "inputWidgets": {},
     "nuid": "eb7ffee2-a5b6-4d57-b0f4-d108aa81e93a",
     "showTitle": false,
     "title": ""
    }
   },
   "outputs": [
    {
     "output_type": "stream",
     "name": "stdout",
     "output_type": "stream",
     "text": [
      "mode:  LIMA\ncount null:  0\n"
     ]
    }
   ],
   "source": [
    "# Replace nulls - column district\n",
    "# --calculate mode\n",
    "district_mode = replace_null_province_df.groupBy('district').count().orderBy('count', ascending=False).first()['district']\n",
    "print('mode: ', district_mode)\n",
    "\n",
    "# --replace\n",
    "replace_null_district_df = replace_null_province_df.fillna(district_mode, subset=['district'])\n",
    "\n",
    "# --checking\n",
    "checking_null = replace_null_district_df.filter(col('district').isNull()).count()\n",
    "print('count null: ', checking_null)"
   ]
  },
  {
   "cell_type": "code",
   "execution_count": 0,
   "metadata": {
    "application/vnd.databricks.v1+cell": {
     "cellMetadata": {
      "byteLimit": 2048000,
      "rowLimit": 10000
     },
     "inputWidgets": {},
     "nuid": "5bd7a705-6611-4048-b68b-341ba2a7acf6",
     "showTitle": false,
     "title": ""
    }
   },
   "outputs": [
    {
     "output_type": "stream",
     "name": "stdout",
     "output_type": "stream",
     "text": [
      "death_date:  0\nage:  0\nsex:  0\ndepartment:  0\nprovince:  0\ndistrict:  0\nubigeo:  0\n"
     ]
    }
   ],
   "source": [
    "#Checking for null columns\n",
    "death_date_nulls = replace_null_district_df.filter(col('death_date').isNull()).count()\n",
    "age_nulls = replace_null_district_df.filter(col('age').isNull()).count()\n",
    "sex_nulls = replace_null_district_df.filter(col('sex').isNull()).count()\n",
    "department_nulls = replace_null_district_df.filter(col('department').isNull()).count()\n",
    "province_nulls = replace_null_district_df.filter(col('province').isNull()).count()\n",
    "district_nulls = replace_null_district_df.filter(col('district').isNull()).count()\n",
    "ubigeo_nulls = replace_null_district_df.filter(col('ubigeo').isNull()).count()\n",
    "\n",
    "print('death_date: ', death_date_nulls)\n",
    "print('age: ', age_nulls)\n",
    "print('sex: ', sex_nulls)\n",
    "print('department: ', department_nulls)\n",
    "print('province: ', province_nulls)\n",
    "print('district: ', district_nulls)\n",
    "print('ubigeo: ', ubigeo_nulls)"
   ]
  },
  {
   "cell_type": "code",
   "execution_count": 0,
   "metadata": {
    "application/vnd.databricks.v1+cell": {
     "cellMetadata": {
      "byteLimit": 2048000,
      "rowLimit": 10000
     },
     "inputWidgets": {},
     "nuid": "f04e7fea-07a8-4108-90ff-3df31e75660b",
     "showTitle": false,
     "title": ""
    }
   },
   "outputs": [
    {
     "output_type": "stream",
     "name": "stdout",
     "output_type": "stream",
     "text": [
      "+----------+---+---------+----------+----------+--------------------+------+\n|death_date|age|      sex|department|  province|            district|ubigeo|\n+----------+---+---------+----------+----------+--------------------+------+\n|  20210611| 21|MASCULINO|LAMBAYEQUE|  CHICLAYO|            CHICLAYO|140101|\n|  20210317| 45|MASCULINO|     PIURA|   SULLANA|             SULLANA|200601|\n|  20210602| 62| FEMENINO|       ICA|     PISCO|        SAN CLEMENTE|110507|\n|  20210703| 75|MASCULINO|  AREQUIPA|  AREQUIPA|          MIRAFLORES|040110|\n|  20210506| 66| FEMENINO|      LIMA|      LIMA|SAN JUAN DE LURIG...|150132|\n|  20210321| 39|MASCULINO|      LIMA|      LIMA|SAN JUAN DE LURIG...|150132|\n|  20210325| 39|MASCULINO|    ANCASH|   HUARMEY|             HUARMEY|021101|\n|  20210706| 31| FEMENINO|      LIMA|      LIMA|                LIMA|150101|\n|  20210530| 75| FEMENINO|  APURIMAC|CHINCHEROS|           COCHARCAS|030603|\n|  20210320| 57|MASCULINO|      LIMA|      LIMA|               RIMAC|150128|\n+----------+---+---------+----------+----------+--------------------+------+\nonly showing top 10 rows\n\n"
     ]
    }
   ],
   "source": [
    "filter_df = replace_null_district_df\n",
    "filter_df.show(10)"
   ]
  },
  {
   "cell_type": "markdown",
   "metadata": {
    "application/vnd.databricks.v1+cell": {
     "cellMetadata": {},
     "inputWidgets": {},
     "nuid": "e95fc30e-c8fb-45ba-91ef-aeeb70ea9fdb",
     "showTitle": false,
     "title": ""
    }
   },
   "source": [
    "#### From the bronze layer to the silver layer"
   ]
  },
  {
   "cell_type": "code",
   "execution_count": 0,
   "metadata": {
    "application/vnd.databricks.v1+cell": {
     "cellMetadata": {
      "byteLimit": 2048000,
      "rowLimit": 10000
     },
     "inputWidgets": {},
     "nuid": "f4093821-3ea1-497e-a321-3fd0cd9dd0b9",
     "showTitle": false,
     "title": ""
    }
   },
   "outputs": [],
   "source": [
    "# Writing the data to the silver layer in delta format\n",
    "filter_df.write.mode(\"overwrite\").format(\"delta\").save(f\"{silver_path}/death_cases_covid19\")"
   ]
  },
  {
   "cell_type": "markdown",
   "metadata": {
    "application/vnd.databricks.v1+cell": {
     "cellMetadata": {},
     "inputWidgets": {},
     "nuid": "6cfae7de-2324-4734-9c33-c01e6c8af24c",
     "showTitle": false,
     "title": ""
    }
   },
   "source": [
    "#### reading data from the silver layer"
   ]
  },
  {
   "cell_type": "code",
   "execution_count": 0,
   "metadata": {
    "application/vnd.databricks.v1+cell": {
     "cellMetadata": {
      "byteLimit": 2048000,
      "rowLimit": 10000
     },
     "inputWidgets": {},
     "nuid": "5e8f38a9-5920-4b53-9fc3-46fb5c61b573",
     "showTitle": false,
     "title": ""
    }
   },
   "outputs": [],
   "source": [
    "# Mapping file path\n",
    "file_path_silver = '/mnt/death-cases-covid19/Silver/death_cases_covid19'"
   ]
  },
  {
   "cell_type": "code",
   "execution_count": 0,
   "metadata": {
    "application/vnd.databricks.v1+cell": {
     "cellMetadata": {
      "byteLimit": 2048000,
      "rowLimit": 10000
     },
     "inputWidgets": {},
     "nuid": "c8e065af-e3be-4e9c-9450-7e22f0f9c6ff",
     "showTitle": false,
     "title": ""
    }
   },
   "outputs": [
    {
     "output_type": "stream",
     "name": "stdout",
     "output_type": "stream",
     "text": [
      "+----------+---+---------+----------+--------+--------------------+------+\n|death_date|age|      sex|department|province|            district|ubigeo|\n+----------+---+---------+----------+--------+--------------------+------+\n|  20210127| 65| FEMENINO|       ICA| CHINCHA|        CHINCHA ALTA|110201|\n|  20200618| 62| FEMENINO|  AREQUIPA|AREQUIPA|   ALTO SELVA ALEGRE|040102|\n|  20200522| 73| FEMENINO|      LIMA|    LIMA|SAN MARTIN DE PORRES|150135|\n|  20200618| 68|MASCULINO|      LIMA|    LIMA|          CARABAYLLO|150106|\n|  20200730| 74|MASCULINO|      LIMA|    LIMA|SAN JUAN DE LURIG...|150132|\n|  20200730| 63| FEMENINO|  AREQUIPA|AREQUIPA|            AREQUIPA|040101|\n|  20200402| 75| FEMENINO|       ICA|     ICA|                 ICA|110101|\n|  20210226| 58|MASCULINO|      LIMA|    LIMA|          LOS OLIVOS|150117|\n|  20200802| 50|MASCULINO|  AMAZONAS|   BAGUA|               BAGUA|010201|\n|  20210117| 71| FEMENINO|      LIMA|    LIMA|          CHORRILLOS|150108|\n+----------+---+---------+----------+--------+--------------------+------+\nonly showing top 10 rows\n\n"
     ]
    }
   ],
   "source": [
    "# Load data from silver layer\n",
    "df_silver = spark.read.format(\"delta\").load(file_path_silver)\n",
    "df_silver.show(10)"
   ]
  },
  {
   "cell_type": "code",
   "execution_count": 0,
   "metadata": {
    "application/vnd.databricks.v1+cell": {
     "cellMetadata": {
      "byteLimit": 2048000,
      "rowLimit": 10000
     },
     "inputWidgets": {},
     "nuid": "4dce2c3b-6bf3-4d54-a828-5701f6b5c5cf",
     "showTitle": false,
     "title": ""
    }
   },
   "outputs": [
    {
     "output_type": "stream",
     "name": "stdout",
     "output_type": "stream",
     "text": [
      "+----------+---+---+-----------+--------+--------------------+------+\n|death_date|age|sex| department|province|            district|ubigeo|\n+----------+---+---+-----------+--------+--------------------+------+\n|  20210127| 65|  F|        ICA| CHINCHA|        CHINCHA ALTA|110201|\n|  20200618| 62|  F|   AREQUIPA|AREQUIPA|   ALTO SELVA ALEGRE|040102|\n|  20200522| 73|  F|       LIMA|    LIMA|SAN MARTIN DE PORRES|150135|\n|  20200618| 68|  M|       LIMA|    LIMA|          CARABAYLLO|150106|\n|  20200730| 74|  M|       LIMA|    LIMA|SAN JUAN DE LURIG...|150132|\n|  20200730| 63|  F|   AREQUIPA|AREQUIPA|            AREQUIPA|040101|\n|  20200402| 75|  F|        ICA|     ICA|                 ICA|110101|\n|  20210226| 58|  M|       LIMA|    LIMA|          LOS OLIVOS|150117|\n|  20200802| 50|  M|   AMAZONAS|   BAGUA|               BAGUA|010201|\n|  20210117| 71|  F|       LIMA|    LIMA|          CHORRILLOS|150108|\n|  20200614| 67|  M|LA LIBERTAD|TRUJILLO|   FLORENCIA DE MORA|130103|\n|  20200715| 69|  M|       LIMA|    LIMA|        PUEBLO LIBRE|150121|\n|  20200527| 51|  M|       LIMA| CAÃETE|      NUEVO IMPERIAL|150510|\n|  20200530| 57|  M|     CALLAO|  CALLAO|          BELLAVISTA|070102|\n|  20200516| 60|  F|     CALLAO|  CALLAO|              CALLAO|070101|\n|  20200519| 66|  M|       LIMA|    LIMA|       INDEPENDENCIA|150112|\n|  20200530| 47|  M|     CALLAO|  CALLAO|              CALLAO|070101|\n|  20200619| 57|  M|       LIMA|    LIMA|                LIMA|150101|\n|  20200717| 85|  M|       LIMA|    LIMA|   SANTIAGO DE SURCO|150140|\n|  20200909| 58|  M|     TUMBES|  TUMBES|              TUMBES|240101|\n+----------+---+---+-----------+--------+--------------------+------+\nonly showing top 20 rows\n\n"
     ]
    }
   ],
   "source": [
    "# Filter sex column\n",
    "filter_sex_columns_df =  df_silver.withColumn('sex', when(lower(col('sex')) == 'masculino', 'M')\\\n",
    "                        .when(lower(col('sex')) == 'femenino', 'F').otherwise(col('sex')) )\n",
    "filter_sex_columns_df.show()"
   ]
  },
  {
   "cell_type": "code",
   "execution_count": 0,
   "metadata": {
    "application/vnd.databricks.v1+cell": {
     "cellMetadata": {
      "byteLimit": 2048000,
      "rowLimit": 10000
     },
     "inputWidgets": {},
     "nuid": "85cef13f-6afe-4373-bb31-fa5c7a6d30d2",
     "showTitle": false,
     "title": ""
    }
   },
   "outputs": [
    {
     "output_type": "stream",
     "name": "stdout",
     "output_type": "stream",
     "text": [
      "+----------+---+---+-----------+--------+--------------------+------+\n|death_date|age|sex| department|province|            district|ubigeo|\n+----------+---+---+-----------+--------+--------------------+------+\n|2021-01-27| 65|  F|        ICA| CHINCHA|        CHINCHA ALTA|110201|\n|2020-06-18| 62|  F|   AREQUIPA|AREQUIPA|   ALTO SELVA ALEGRE|040102|\n|2020-05-22| 73|  F|       LIMA|    LIMA|SAN MARTIN DE PORRES|150135|\n|2020-06-18| 68|  M|       LIMA|    LIMA|          CARABAYLLO|150106|\n|2020-07-30| 74|  M|       LIMA|    LIMA|SAN JUAN DE LURIG...|150132|\n|2020-07-30| 63|  F|   AREQUIPA|AREQUIPA|            AREQUIPA|040101|\n|2020-04-02| 75|  F|        ICA|     ICA|                 ICA|110101|\n|2021-02-26| 58|  M|       LIMA|    LIMA|          LOS OLIVOS|150117|\n|2020-08-02| 50|  M|   AMAZONAS|   BAGUA|               BAGUA|010201|\n|2021-01-17| 71|  F|       LIMA|    LIMA|          CHORRILLOS|150108|\n|2020-06-14| 67|  M|LA LIBERTAD|TRUJILLO|   FLORENCIA DE MORA|130103|\n|2020-07-15| 69|  M|       LIMA|    LIMA|        PUEBLO LIBRE|150121|\n|2020-05-27| 51|  M|       LIMA| CAÃETE|      NUEVO IMPERIAL|150510|\n|2020-05-30| 57|  M|     CALLAO|  CALLAO|          BELLAVISTA|070102|\n|2020-05-16| 60|  F|     CALLAO|  CALLAO|              CALLAO|070101|\n|2020-05-19| 66|  M|       LIMA|    LIMA|       INDEPENDENCIA|150112|\n|2020-05-30| 47|  M|     CALLAO|  CALLAO|              CALLAO|070101|\n|2020-06-19| 57|  M|       LIMA|    LIMA|                LIMA|150101|\n|2020-07-17| 85|  M|       LIMA|    LIMA|   SANTIAGO DE SURCO|150140|\n|2020-09-09| 58|  M|     TUMBES|  TUMBES|              TUMBES|240101|\n+----------+---+---+-----------+--------+--------------------+------+\nonly showing top 20 rows\n\n"
     ]
    }
   ],
   "source": [
    "# Filter column death_date\n",
    "filter_date_columns_df = filter_sex_columns_df.withColumn('death_date', expr(\"to_date(cast(death_date as string), 'yyyyMMdd')\"))\n",
    "filter_date_columns_df.show()"
   ]
  },
  {
   "cell_type": "code",
   "execution_count": 0,
   "metadata": {
    "application/vnd.databricks.v1+cell": {
     "cellMetadata": {
      "byteLimit": 2048000,
      "rowLimit": 10000
     },
     "inputWidgets": {},
     "nuid": "2e318a4a-c041-432b-87f2-9e9902194f33",
     "showTitle": false,
     "title": ""
    }
   },
   "outputs": [
    {
     "output_type": "stream",
     "name": "stdout",
     "output_type": "stream",
     "text": [
      "+----------+---+---+-----------+----------------+--------------------+------+----------+-----------+---------+\n|death_date|age|sex| department|        province|            district|ubigeo|year_death|month_death|day_death|\n+----------+---+---+-----------+----------------+--------------------+------+----------+-----------+---------+\n|2021-02-28| 68|  M|       LIMA|            LIMA|                 ATE|150103|      2021|   February|   Sunday|\n|2020-09-16| 84|  M|LA LIBERTAD|        TRUJILLO|            TRUJILLO|130101|      2020|  September|Wednesday|\n|2020-05-08| 65|  M|     LORETO|          MAYNAS|             IQUITOS|160101|      2020|        May|   Friday|\n|2020-12-15| 88|  M|     CALLAO|          CALLAO|          BELLAVISTA|070102|      2020|   December|  Tuesday|\n|2021-02-20| 63|  F|   AYACUCHO|        HUAMANGA|            AYACUCHO|050101|      2021|   February| Saturday|\n|2020-04-28| 63|  M|LA LIBERTAD|        TRUJILLO|              LAREDO|130106|      2020|      April|  Tuesday|\n|2020-05-25| 82|  M|      PIURA|           PAITA|            VICHAYAL|200507|      2020|        May|   Monday|\n|2020-07-09|  4|  F|     TUMBES|          TUMBES|              TUMBES|240101|      2020|       July| Thursday|\n|2020-07-25| 41|  M|   APURIMAC|     ANDAHUAYLAS|         ANDAHUAYLAS|030201|      2020|       July| Saturday|\n|2020-05-16| 58|  M|    UCAYALI|CORONEL PORTILLO|            MANANTAY|250107|      2020|        May| Saturday|\n|2020-05-07| 65|  F|       LIMA|            LIMA|         EL AGUSTINO|150111|      2020|        May| Thursday|\n|2020-06-04| 55|  M|       LIMA|            LIMA|SAN JUAN DE LURIG...|150132|      2020|       June| Thursday|\n|2021-02-21| 49|  F|   AREQUIPA|        CAYLLOMA|               MAJES|040520|      2021|   February|   Sunday|\n|2020-06-14| 79|  M|       LIMA|            LIMA|SAN JUAN DE MIRAF...|150133|      2020|       June|   Sunday|\n|2021-03-03| 98|  F|       LIMA|            LIMA|SAN JUAN DE LURIG...|150132|      2021|      March|Wednesday|\n|2020-06-22| 55|  M|   AREQUIPA|        AREQUIPA|      CERRO COLORADO|040104|      2020|       June|   Monday|\n|2020-07-09| 83|  F|       LIMA|            LIMA|           SAN BORJA|150130|      2020|       July| Thursday|\n|2020-08-06| 81|  F|      CUSCO|        URUBAMBA|               MARAS|081305|      2020|     August| Thursday|\n|2020-09-15| 52|  M|      JUNIN|     CHANCHAMAYO|              PERENE|120302|      2020|  September|  Tuesday|\n|2020-06-16| 53|  F|LA LIBERTAD|          CHEPEN|             PACANGA|130402|      2020|       June|  Tuesday|\n+----------+---+---+-----------+----------------+--------------------+------+----------+-----------+---------+\nonly showing top 20 rows\n\n"
     ]
    }
   ],
   "source": [
    "# add columns year, month, day\n",
    "df = filter_date_columns_df.withColumn('year_death', year(col('death_date')))\\\n",
    "    .withColumn('month_death', date_format(col('death_date'), 'MMMM'))\\\n",
    "    .withColumn('day_death', date_format(col('death_date'), 'EEEE'))\n",
    "df.show()"
   ]
  },
  {
   "cell_type": "code",
   "execution_count": 0,
   "metadata": {
    "application/vnd.databricks.v1+cell": {
     "cellMetadata": {
      "byteLimit": 2048000,
      "rowLimit": 10000
     },
     "inputWidgets": {},
     "nuid": "66ad7275-f80b-4eb4-ba62-a8a90e3e76f8",
     "showTitle": false,
     "title": ""
    }
   },
   "outputs": [
    {
     "output_type": "stream",
     "name": "stdout",
     "output_type": "stream",
     "text": [
      "+---+---+-----------+----------------+--------------------+------+----------+-----------+---------+\n|age|sex| department|        province|            district|ubigeo|year_death|month_death|day_death|\n+---+---+-----------+----------------+--------------------+------+----------+-----------+---------+\n| 68|  M|       LIMA|            LIMA|                 ATE|150103|      2021|   February|   Sunday|\n| 84|  M|LA LIBERTAD|        TRUJILLO|            TRUJILLO|130101|      2020|  September|Wednesday|\n| 65|  M|     LORETO|          MAYNAS|             IQUITOS|160101|      2020|        May|   Friday|\n| 88|  M|     CALLAO|          CALLAO|          BELLAVISTA|070102|      2020|   December|  Tuesday|\n| 63|  F|   AYACUCHO|        HUAMANGA|            AYACUCHO|050101|      2021|   February| Saturday|\n| 63|  M|LA LIBERTAD|        TRUJILLO|              LAREDO|130106|      2020|      April|  Tuesday|\n| 82|  M|      PIURA|           PAITA|            VICHAYAL|200507|      2020|        May|   Monday|\n|  4|  F|     TUMBES|          TUMBES|              TUMBES|240101|      2020|       July| Thursday|\n| 41|  M|   APURIMAC|     ANDAHUAYLAS|         ANDAHUAYLAS|030201|      2020|       July| Saturday|\n| 58|  M|    UCAYALI|CORONEL PORTILLO|            MANANTAY|250107|      2020|        May| Saturday|\n| 65|  F|       LIMA|            LIMA|         EL AGUSTINO|150111|      2020|        May| Thursday|\n| 55|  M|       LIMA|            LIMA|SAN JUAN DE LURIG...|150132|      2020|       June| Thursday|\n| 49|  F|   AREQUIPA|        CAYLLOMA|               MAJES|040520|      2021|   February|   Sunday|\n| 79|  M|       LIMA|            LIMA|SAN JUAN DE MIRAF...|150133|      2020|       June|   Sunday|\n| 98|  F|       LIMA|            LIMA|SAN JUAN DE LURIG...|150132|      2021|      March|Wednesday|\n| 55|  M|   AREQUIPA|        AREQUIPA|      CERRO COLORADO|040104|      2020|       June|   Monday|\n| 83|  F|       LIMA|            LIMA|           SAN BORJA|150130|      2020|       July| Thursday|\n| 81|  F|      CUSCO|        URUBAMBA|               MARAS|081305|      2020|     August| Thursday|\n| 52|  M|      JUNIN|     CHANCHAMAYO|              PERENE|120302|      2020|  September|  Tuesday|\n| 53|  F|LA LIBERTAD|          CHEPEN|             PACANGA|130402|      2020|       June|  Tuesday|\n+---+---+-----------+----------------+--------------------+------+----------+-----------+---------+\nonly showing top 20 rows\n\n"
     ]
    }
   ],
   "source": [
    "# remove column death_date\n",
    "df = df.drop(col('death_date'))\n",
    "df.show()"
   ]
  },
  {
   "cell_type": "code",
   "execution_count": 0,
   "metadata": {
    "application/vnd.databricks.v1+cell": {
     "cellMetadata": {
      "byteLimit": 2048000,
      "rowLimit": 10000
     },
     "inputWidgets": {},
     "nuid": "5bbf1793-43f2-4621-8149-6ca23c9c2db1",
     "showTitle": false,
     "title": ""
    }
   },
   "outputs": [
    {
     "output_type": "stream",
     "name": "stdout",
     "output_type": "stream",
     "text": [
      "+----------+-----------+---------+---+---+------+-----------+----------------+--------------------+\n|year_death|month_death|day_death|age|sex|ubigeo| department|        province|            district|\n+----------+-----------+---------+---+---+------+-----------+----------------+--------------------+\n|      2021|   February|   Sunday| 68|  M|150103|       LIMA|            LIMA|                 ATE|\n|      2020|  September|Wednesday| 84|  M|130101|LA LIBERTAD|        TRUJILLO|            TRUJILLO|\n|      2020|        May|   Friday| 65|  M|160101|     LORETO|          MAYNAS|             IQUITOS|\n|      2020|   December|  Tuesday| 88|  M|070102|     CALLAO|          CALLAO|          BELLAVISTA|\n|      2021|   February| Saturday| 63|  F|050101|   AYACUCHO|        HUAMANGA|            AYACUCHO|\n|      2020|      April|  Tuesday| 63|  M|130106|LA LIBERTAD|        TRUJILLO|              LAREDO|\n|      2020|        May|   Monday| 82|  M|200507|      PIURA|           PAITA|            VICHAYAL|\n|      2020|       July| Thursday|  4|  F|240101|     TUMBES|          TUMBES|              TUMBES|\n|      2020|       July| Saturday| 41|  M|030201|   APURIMAC|     ANDAHUAYLAS|         ANDAHUAYLAS|\n|      2020|        May| Saturday| 58|  M|250107|    UCAYALI|CORONEL PORTILLO|            MANANTAY|\n|      2020|        May| Thursday| 65|  F|150111|       LIMA|            LIMA|         EL AGUSTINO|\n|      2020|       June| Thursday| 55|  M|150132|       LIMA|            LIMA|SAN JUAN DE LURIG...|\n|      2021|   February|   Sunday| 49|  F|040520|   AREQUIPA|        CAYLLOMA|               MAJES|\n|      2020|       June|   Sunday| 79|  M|150133|       LIMA|            LIMA|SAN JUAN DE MIRAF...|\n|      2021|      March|Wednesday| 98|  F|150132|       LIMA|            LIMA|SAN JUAN DE LURIG...|\n|      2020|       June|   Monday| 55|  M|040104|   AREQUIPA|        AREQUIPA|      CERRO COLORADO|\n|      2020|       July| Thursday| 83|  F|150130|       LIMA|            LIMA|           SAN BORJA|\n|      2020|     August| Thursday| 81|  F|081305|      CUSCO|        URUBAMBA|               MARAS|\n|      2020|  September|  Tuesday| 52|  M|120302|      JUNIN|     CHANCHAMAYO|              PERENE|\n|      2020|       June|  Tuesday| 53|  F|130402|LA LIBERTAD|          CHEPEN|             PACANGA|\n+----------+-----------+---------+---+---+------+-----------+----------------+--------------------+\nonly showing top 20 rows\n\n"
     ]
    }
   ],
   "source": [
    "# Sort columns\n",
    "columns_order = ['year_death', 'month_death', 'day_death', 'age', 'sex', 'ubigeo', 'department', 'province', 'district']\n",
    "df = df.select(*columns_order)\n",
    "df.show()"
   ]
  },
  {
   "cell_type": "markdown",
   "metadata": {
    "application/vnd.databricks.v1+cell": {
     "cellMetadata": {},
     "inputWidgets": {},
     "nuid": "4c1297c4-2db0-4944-bfb6-90eebc889de2",
     "showTitle": false,
     "title": ""
    }
   },
   "source": [
    "#### From the Silver layer to the Gold layer"
   ]
  },
  {
   "cell_type": "code",
   "execution_count": 0,
   "metadata": {
    "application/vnd.databricks.v1+cell": {
     "cellMetadata": {
      "byteLimit": 2048000,
      "rowLimit": 10000
     },
     "inputWidgets": {},
     "nuid": "db700d20-ac95-4d1e-b2df-756c6b5fd9b6",
     "showTitle": false,
     "title": ""
    }
   },
   "outputs": [],
   "source": [
    "df.write.mode(\"overwrite\").format(\"delta\").save(f\"{gold_path}/death_cases_covid19\")"
   ]
  },
  {
   "cell_type": "code",
   "execution_count": 0,
   "metadata": {
    "application/vnd.databricks.v1+cell": {
     "cellMetadata": {
      "byteLimit": 2048000,
      "rowLimit": 10000
     },
     "inputWidgets": {},
     "nuid": "076492e7-11c0-487b-9b09-f349e3854406",
     "showTitle": false,
     "title": ""
    }
   },
   "outputs": [
    {
     "output_type": "stream",
     "name": "stdout",
     "output_type": "stream",
     "text": [
      "+----------+-----------+---------+---+---+------+-----------+---------+--------------------+\n|year_death|month_death|day_death|age|sex|ubigeo| department| province|            district|\n+----------+-----------+---------+---+---+------+-----------+---------+--------------------+\n|      2021|       June| Thursday| 75|  M|130704|LA LIBERTAD|PACASMAYO|           PACASMAYO|\n|      2021|       June|  Tuesday| 79|  M|130101|LA LIBERTAD| TRUJILLO|            TRUJILLO|\n|      2021|        May| Thursday| 61|  M|140101| LAMBAYEQUE| CHICLAYO|            CHICLAYO|\n|      2021|      April|   Friday| 37|  M|110501|        ICA|    PISCO|               PISCO|\n|      2021|      March|  Tuesday| 83|  M|140108| LAMBAYEQUE| CHICLAYO|             MONSEFU|\n|      2021|   November|   Sunday| 61|  F|150142|       LIMA|     LIMA|   VILLA EL SALVADOR|\n|      2021|      April|   Friday| 52|  F|150103|       LIMA|     LIMA|                 ATE|\n|      2021|      March| Thursday| 84|  F|150135|       LIMA|     LIMA|SAN MARTIN DE PORRES|\n|      2021|      April| Thursday| 38|  M|150110|       LIMA|     LIMA|               COMAS|\n|      2021|      April|Wednesday| 39|  M|150105|       LIMA|     LIMA|              BREÃA|\n+----------+-----------+---------+---+---+------+-----------+---------+--------------------+\nonly showing top 10 rows\n\n"
     ]
    }
   ],
   "source": [
    "# Checking data of the Gold layer\n",
    "path = '/mnt/death-cases-covid19/Gold/death_cases_covid19'\n",
    "gold_df = spark.read.format('delta').load(path)\n",
    "\n",
    "gold_df.show(10)"
   ]
  }
 ],
 "metadata": {
  "application/vnd.databricks.v1+notebook": {
   "dashboards": [],
   "language": "python",
   "notebookMetadata": {
    "pythonIndentUnit": 4
   },
   "notebookName": "transformations",
   "widgets": {}
  }
 },
 "nbformat": 4,
 "nbformat_minor": 0
}
